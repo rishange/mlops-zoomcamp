{
 "cells": [
  {
   "cell_type": "markdown",
   "id": "39e46131-3f38-47bf-a0fa-248315ae40de",
   "metadata": {},
   "source": [
    "## Question 1. Select the Tool"
   ]
  },
  {
   "cell_type": "markdown",
   "id": "a1a744b6-2c7c-43ab-bf8f-3e29d487c9cf",
   "metadata": {},
   "source": [
    "I chose prefect for its flexibility and scalability"
   ]
  },
  {
   "cell_type": "markdown",
   "id": "1aec4528-28c6-412c-9e8f-bf55d5ded3b0",
   "metadata": {},
   "source": [
    "## Question 2. Version"
   ]
  },
  {
   "cell_type": "code",
   "execution_count": 1,
   "id": "6948a85e-6994-4651-b960-bd049809947f",
   "metadata": {},
   "outputs": [
    {
     "name": "stdout",
     "output_type": "stream",
     "text": [
      "Version:             3.4.4\n",
      "API version:         0.8.4\n",
      "Python version:      3.9.21\n",
      "Git commit:          0367d7aa\n",
      "Built:               Thu, May 29, 2025 09:37 PM\n",
      "OS/Arch:             linux/x86_64\n",
      "Profile:             ephemeral\n",
      "Server type:         ephemeral\n",
      "Pydantic version:    2.11.5\n",
      "Server:\n",
      "  Database:          sqlite\n",
      "  SQLite version:    3.45.3\n"
     ]
    }
   ],
   "source": [
    "!prefect version"
   ]
  },
  {
   "cell_type": "code",
   "execution_count": 2,
   "id": "830d6c47-867b-482f-8c67-191aaaf0ed11",
   "metadata": {},
   "outputs": [
    {
     "name": "stdout",
     "output_type": "stream",
     "text": [
      "\u001b[32mSwitched to profile 'local'\u001b[0m\n",
      "\n",
      " ___ ___ ___ ___ ___ ___ _____\n",
      "| _ \\ _ \\ __| __| __/ __|_   _|\n",
      "|  _/   / _|| _|| _| (__  | |\n",
      "|_| |_|_\\___|_| |___\\___| |_|\n",
      "\n",
      "Configure Prefect to communicate with the server with:\n",
      "\n",
      "    prefect config set PREFECT_API_URL=http://127.0.0.1:4200/api\n",
      "\n",
      "View the API reference documentation at http://127.0.0.1:4200/docs\n",
      "\n",
      "Check out the dashboard at http://127.0.0.1:4200\n",
      "\n",
      "\n",
      "\n",
      "^C\n"
     ]
    }
   ],
   "source": [
    "!prefect server start"
   ]
  },
  {
   "cell_type": "markdown",
   "id": "94b6ae12-6e69-43d3-9973-113648d07de5",
   "metadata": {},
   "source": [
    "Run a sample code from prefect's \"getting started\" to check if everything's working"
   ]
  },
  {
   "cell_type": "code",
   "execution_count": 3,
   "id": "71e496a6-3442-4990-b4b8-6a754b913eb4",
   "metadata": {
    "scrolled": true
   },
   "outputs": [
    {
     "data": {
      "text/html": [
       "<pre style=\"white-space:pre;overflow-x:auto;line-height:normal;font-family:Menlo,'DejaVu Sans Mono',consolas,'Courier New',monospace\">23:10:59.917 | <span style=\"color: #008080; text-decoration-color: #008080\">INFO</span>    | prefect - Starting temporary server on <span style=\"color: #0000ff; text-decoration-color: #0000ff\">http://127.0.0.1:8558</span>\n",
       "See <span style=\"color: #0000ff; text-decoration-color: #0000ff\">https://docs.prefect.io/3.0/manage/self-host#self-host-a-prefect-server</span> for more information on running a dedicated Prefect server.\n",
       "</pre>\n"
      ],
      "text/plain": [
       "23:10:59.917 | \u001b[36mINFO\u001b[0m    | prefect - Starting temporary server on \u001b[94mhttp://127.0.0.1:8558\u001b[0m\n",
       "See \u001b[94mhttps://docs.prefect.io/3.0/manage/self-host#self-host-a-prefect-server\u001b[0m for more information on running a dedicated Prefect server.\n"
      ]
     },
     "metadata": {},
     "output_type": "display_data"
    },
    {
     "data": {
      "text/html": [
       "<pre style=\"white-space:pre;overflow-x:auto;line-height:normal;font-family:Menlo,'DejaVu Sans Mono',consolas,'Courier New',monospace\">23:11:03.513 | <span style=\"color: #008080; text-decoration-color: #008080\">INFO</span>    | Flow run<span style=\"color: #800080; text-decoration-color: #800080\"> 'optimal-wildebeest'</span> - Beginning flow run<span style=\"color: #800080; text-decoration-color: #800080\"> 'optimal-wildebeest'</span> for flow<span style=\"color: #800080; text-decoration-color: #800080; font-weight: bold\"> 'main'</span>\n",
       "</pre>\n"
      ],
      "text/plain": [
       "23:11:03.513 | \u001b[36mINFO\u001b[0m    | Flow run\u001b[35m 'optimal-wildebeest'\u001b[0m - Beginning flow run\u001b[35m 'optimal-wildebeest'\u001b[0m for flow\u001b[1;35m 'main'\u001b[0m\n"
      ]
     },
     "metadata": {},
     "output_type": "display_data"
    },
    {
     "data": {
      "text/html": [
       "<pre style=\"white-space:pre;overflow-x:auto;line-height:normal;font-family:Menlo,'DejaVu Sans Mono',consolas,'Courier New',monospace\">23:11:03.576 | <span style=\"color: #008080; text-decoration-color: #008080\">INFO</span>    | Task run 'get_customer_ids-adf' - Finished in state <span style=\"color: #008000; text-decoration-color: #008000\">Completed</span>()\n",
       "</pre>\n"
      ],
      "text/plain": [
       "23:11:03.576 | \u001b[36mINFO\u001b[0m    | Task run 'get_customer_ids-adf' - Finished in state \u001b[32mCompleted\u001b[0m()\n"
      ]
     },
     "metadata": {},
     "output_type": "display_data"
    },
    {
     "data": {
      "text/html": [
       "<pre style=\"white-space:pre;overflow-x:auto;line-height:normal;font-family:Menlo,'DejaVu Sans Mono',consolas,'Courier New',monospace\">23:11:04.039 | <span style=\"color: #008080; text-decoration-color: #008080\">INFO</span>    | Task run 'process_customer-58a' - Finished in state <span style=\"color: #008000; text-decoration-color: #008000\">Completed</span>()\n",
       "</pre>\n"
      ],
      "text/plain": [
       "23:11:04.039 | \u001b[36mINFO\u001b[0m    | Task run 'process_customer-58a' - Finished in state \u001b[32mCompleted\u001b[0m()\n"
      ]
     },
     "metadata": {},
     "output_type": "display_data"
    },
    {
     "data": {
      "text/html": [
       "<pre style=\"white-space:pre;overflow-x:auto;line-height:normal;font-family:Menlo,'DejaVu Sans Mono',consolas,'Courier New',monospace\">23:11:04.044 | <span style=\"color: #008080; text-decoration-color: #008080\">INFO</span>    | Task run 'process_customer-0d0' - Finished in state <span style=\"color: #008000; text-decoration-color: #008000\">Completed</span>()\n",
       "</pre>\n"
      ],
      "text/plain": [
       "23:11:04.044 | \u001b[36mINFO\u001b[0m    | Task run 'process_customer-0d0' - Finished in state \u001b[32mCompleted\u001b[0m()\n"
      ]
     },
     "metadata": {},
     "output_type": "display_data"
    },
    {
     "data": {
      "text/html": [
       "<pre style=\"white-space:pre;overflow-x:auto;line-height:normal;font-family:Menlo,'DejaVu Sans Mono',consolas,'Courier New',monospace\">23:11:04.048 | <span style=\"color: #008080; text-decoration-color: #008080\">INFO</span>    | Task run 'process_customer-0c3' - Finished in state <span style=\"color: #008000; text-decoration-color: #008000\">Completed</span>()\n",
       "</pre>\n"
      ],
      "text/plain": [
       "23:11:04.048 | \u001b[36mINFO\u001b[0m    | Task run 'process_customer-0c3' - Finished in state \u001b[32mCompleted\u001b[0m()\n"
      ]
     },
     "metadata": {},
     "output_type": "display_data"
    },
    {
     "data": {
      "text/html": [
       "<pre style=\"white-space:pre;overflow-x:auto;line-height:normal;font-family:Menlo,'DejaVu Sans Mono',consolas,'Courier New',monospace\">23:11:04.047 | <span style=\"color: #008080; text-decoration-color: #008080\">INFO</span>    | Task run 'process_customer-965' - Finished in state <span style=\"color: #008000; text-decoration-color: #008000\">Completed</span>()\n",
       "</pre>\n"
      ],
      "text/plain": [
       "23:11:04.047 | \u001b[36mINFO\u001b[0m    | Task run 'process_customer-965' - Finished in state \u001b[32mCompleted\u001b[0m()\n"
      ]
     },
     "metadata": {},
     "output_type": "display_data"
    },
    {
     "data": {
      "text/html": [
       "<pre style=\"white-space:pre;overflow-x:auto;line-height:normal;font-family:Menlo,'DejaVu Sans Mono',consolas,'Courier New',monospace\">23:11:04.057 | <span style=\"color: #008080; text-decoration-color: #008080\">INFO</span>    | Task run 'process_customer-a20' - Finished in state <span style=\"color: #008000; text-decoration-color: #008000\">Completed</span>()\n",
       "</pre>\n"
      ],
      "text/plain": [
       "23:11:04.057 | \u001b[36mINFO\u001b[0m    | Task run 'process_customer-a20' - Finished in state \u001b[32mCompleted\u001b[0m()\n"
      ]
     },
     "metadata": {},
     "output_type": "display_data"
    },
    {
     "data": {
      "text/html": [
       "<pre style=\"white-space:pre;overflow-x:auto;line-height:normal;font-family:Menlo,'DejaVu Sans Mono',consolas,'Courier New',monospace\">23:11:04.064 | <span style=\"color: #008080; text-decoration-color: #008080\">INFO</span>    | Task run 'process_customer-1cc' - Finished in state <span style=\"color: #008000; text-decoration-color: #008000\">Completed</span>()\n",
       "</pre>\n"
      ],
      "text/plain": [
       "23:11:04.064 | \u001b[36mINFO\u001b[0m    | Task run 'process_customer-1cc' - Finished in state \u001b[32mCompleted\u001b[0m()\n"
      ]
     },
     "metadata": {},
     "output_type": "display_data"
    },
    {
     "data": {
      "text/html": [
       "<pre style=\"white-space:pre;overflow-x:auto;line-height:normal;font-family:Menlo,'DejaVu Sans Mono',consolas,'Courier New',monospace\">23:11:04.065 | <span style=\"color: #008080; text-decoration-color: #008080\">INFO</span>    | Task run 'process_customer-91d' - Finished in state <span style=\"color: #008000; text-decoration-color: #008000\">Completed</span>()\n",
       "</pre>\n"
      ],
      "text/plain": [
       "23:11:04.065 | \u001b[36mINFO\u001b[0m    | Task run 'process_customer-91d' - Finished in state \u001b[32mCompleted\u001b[0m()\n"
      ]
     },
     "metadata": {},
     "output_type": "display_data"
    },
    {
     "data": {
      "text/html": [
       "<pre style=\"white-space:pre;overflow-x:auto;line-height:normal;font-family:Menlo,'DejaVu Sans Mono',consolas,'Courier New',monospace\">23:11:04.066 | <span style=\"color: #008080; text-decoration-color: #008080\">INFO</span>    | Task run 'process_customer-d87' - Finished in state <span style=\"color: #008000; text-decoration-color: #008000\">Completed</span>()\n",
       "</pre>\n"
      ],
      "text/plain": [
       "23:11:04.066 | \u001b[36mINFO\u001b[0m    | Task run 'process_customer-d87' - Finished in state \u001b[32mCompleted\u001b[0m()\n"
      ]
     },
     "metadata": {},
     "output_type": "display_data"
    },
    {
     "data": {
      "text/html": [
       "<pre style=\"white-space:pre;overflow-x:auto;line-height:normal;font-family:Menlo,'DejaVu Sans Mono',consolas,'Courier New',monospace\">23:11:04.065 | <span style=\"color: #008080; text-decoration-color: #008080\">INFO</span>    | Task run 'process_customer-6a1' - Finished in state <span style=\"color: #008000; text-decoration-color: #008000\">Completed</span>()\n",
       "</pre>\n"
      ],
      "text/plain": [
       "23:11:04.065 | \u001b[36mINFO\u001b[0m    | Task run 'process_customer-6a1' - Finished in state \u001b[32mCompleted\u001b[0m()\n"
      ]
     },
     "metadata": {},
     "output_type": "display_data"
    },
    {
     "data": {
      "text/html": [
       "<pre style=\"white-space:pre;overflow-x:auto;line-height:normal;font-family:Menlo,'DejaVu Sans Mono',consolas,'Courier New',monospace\">23:11:04.067 | <span style=\"color: #008080; text-decoration-color: #008080\">INFO</span>    | Task run 'process_customer-513' - Finished in state <span style=\"color: #008000; text-decoration-color: #008000\">Completed</span>()\n",
       "</pre>\n"
      ],
      "text/plain": [
       "23:11:04.067 | \u001b[36mINFO\u001b[0m    | Task run 'process_customer-513' - Finished in state \u001b[32mCompleted\u001b[0m()\n"
      ]
     },
     "metadata": {},
     "output_type": "display_data"
    },
    {
     "data": {
      "text/html": [
       "<pre style=\"white-space:pre;overflow-x:auto;line-height:normal;font-family:Menlo,'DejaVu Sans Mono',consolas,'Courier New',monospace\">23:11:04.257 | <span style=\"color: #008080; text-decoration-color: #008080\">INFO</span>    | Flow run<span style=\"color: #800080; text-decoration-color: #800080\"> 'optimal-wildebeest'</span> - Finished in state <span style=\"color: #008000; text-decoration-color: #008000\">Completed</span>('All states completed.')\n",
       "</pre>\n"
      ],
      "text/plain": [
       "23:11:04.257 | \u001b[36mINFO\u001b[0m    | Flow run\u001b[35m 'optimal-wildebeest'\u001b[0m - Finished in state \u001b[32mCompleted\u001b[0m('All states completed.')\n"
      ]
     },
     "metadata": {},
     "output_type": "display_data"
    }
   ],
   "source": [
    "from prefect import flow, task\n",
    "import random\n",
    "\n",
    "@task\n",
    "def get_customer_ids() -> list[str]:\n",
    "    # Fetch customer IDs from a database or API\n",
    "    return [f\"customer{n}\" for n in random.choices(range(100), k=10)]\n",
    "\n",
    "@task\n",
    "def process_customer(customer_id: str) -> str:\n",
    "    # Process a single customer\n",
    "    return f\"Processed {customer_id}\"\n",
    "\n",
    "@flow\n",
    "def main() -> list[str]:\n",
    "    customer_ids = get_customer_ids()\n",
    "    # Map the process_customer task across all customer IDs\n",
    "    results = process_customer.map(customer_ids)\n",
    "    return results\n",
    "\n",
    "\n",
    "if __name__ == \"__main__\":\n",
    "    main()"
   ]
  },
  {
   "cell_type": "code",
   "execution_count": 5,
   "id": "d491318d-c8c3-4439-9bdb-d7eda0dccd7a",
   "metadata": {},
   "outputs": [
    {
     "data": {
      "text/html": [
       "<pre style=\"white-space:pre;overflow-x:auto;line-height:normal;font-family:Menlo,'DejaVu Sans Mono',consolas,'Courier New',monospace\"><span style=\"color: #008000; text-decoration-color: #008000\">Your flow </span><span style=\"color: #008000; text-decoration-color: #008000\">'main'</span><span style=\"color: #008000; text-decoration-color: #008000\"> is being served and polling for scheduled runs!</span>\n",
       "\n",
       "To trigger a run for this flow, use the following command:\n",
       "\n",
       "<span style=\"color: #000080; text-decoration-color: #000080\">        $ prefect deployment run </span><span style=\"color: #000080; text-decoration-color: #000080\">'main/my-first-deployment'</span>\n",
       "\n",
       "</pre>\n"
      ],
      "text/plain": [
       "\u001b[32mYour flow \u001b[0m\u001b[32m'main'\u001b[0m\u001b[32m is being served and polling for scheduled runs!\u001b[0m\n",
       "\n",
       "To trigger a run for this flow, use the following command:\n",
       "\n",
       "\u001b[34m        \u001b[0m\u001b[34m$ prefect deployment run \u001b[0m\u001b[34m'main/my-first-deployment'\u001b[0m\n",
       "\n"
      ]
     },
     "metadata": {},
     "output_type": "display_data"
    },
    {
     "ename": "RuntimeError",
     "evalue": "This event loop is already running",
     "output_type": "error",
     "traceback": [
      "\u001b[0;31m---------------------------------------------------------------------------\u001b[0m",
      "\u001b[0;31mRuntimeError\u001b[0m                              Traceback (most recent call last)",
      "Cell \u001b[0;32mIn[5], line 23\u001b[0m\n\u001b[1;32m     19\u001b[0m     \u001b[38;5;28;01mreturn\u001b[39;00m results\n\u001b[1;32m     22\u001b[0m \u001b[38;5;28;01mif\u001b[39;00m \u001b[38;5;18m__name__\u001b[39m \u001b[38;5;241m==\u001b[39m \u001b[38;5;124m\"\u001b[39m\u001b[38;5;124m__main__\u001b[39m\u001b[38;5;124m\"\u001b[39m:\n\u001b[0;32m---> 23\u001b[0m     \u001b[43mmain\u001b[49m\u001b[38;5;241;43m.\u001b[39;49m\u001b[43mserve\u001b[49m\u001b[43m(\u001b[49m\u001b[43mname\u001b[49m\u001b[38;5;241;43m=\u001b[39;49m\u001b[38;5;124;43m\"\u001b[39;49m\u001b[38;5;124;43mmy-first-deployment\u001b[39;49m\u001b[38;5;124;43m\"\u001b[39;49m\u001b[43m)\u001b[49m\n",
      "File \u001b[0;32m~/anaconda3/envs/exp-tracking-env/lib/python3.9/site-packages/prefect/flows.py:1138\u001b[0m, in \u001b[0;36mFlow.serve\u001b[0;34m(self, name, interval, cron, rrule, paused, schedule, schedules, global_limit, triggers, parameters, description, tags, version, enforce_parameter_schema, pause_on_shutdown, print_starting_message, limit, webserver, entrypoint_type)\u001b[0m\n\u001b[1;32m   1136\u001b[0m \u001b[38;5;28;01mtry\u001b[39;00m:\n\u001b[1;32m   1137\u001b[0m     \u001b[38;5;28;01mif\u001b[39;00m loop \u001b[38;5;129;01mis\u001b[39;00m \u001b[38;5;129;01mnot\u001b[39;00m \u001b[38;5;28;01mNone\u001b[39;00m:\n\u001b[0;32m-> 1138\u001b[0m         \u001b[43mloop\u001b[49m\u001b[38;5;241;43m.\u001b[39;49m\u001b[43mrun_until_complete\u001b[49m\u001b[43m(\u001b[49m\u001b[43mrunner\u001b[49m\u001b[38;5;241;43m.\u001b[39;49m\u001b[43mstart\u001b[49m\u001b[43m(\u001b[49m\u001b[43mwebserver\u001b[49m\u001b[38;5;241;43m=\u001b[39;49m\u001b[43mwebserver\u001b[49m\u001b[43m)\u001b[49m\u001b[43m)\u001b[49m\n\u001b[1;32m   1139\u001b[0m     \u001b[38;5;28;01melse\u001b[39;00m:\n\u001b[1;32m   1140\u001b[0m         asyncio\u001b[38;5;241m.\u001b[39mrun(runner\u001b[38;5;241m.\u001b[39mstart(webserver\u001b[38;5;241m=\u001b[39mwebserver))\n",
      "File \u001b[0;32m~/anaconda3/envs/exp-tracking-env/lib/python3.9/asyncio/base_events.py:623\u001b[0m, in \u001b[0;36mBaseEventLoop.run_until_complete\u001b[0;34m(self, future)\u001b[0m\n\u001b[1;32m    612\u001b[0m \u001b[38;5;250m\u001b[39m\u001b[38;5;124;03m\"\"\"Run until the Future is done.\u001b[39;00m\n\u001b[1;32m    613\u001b[0m \n\u001b[1;32m    614\u001b[0m \u001b[38;5;124;03mIf the argument is a coroutine, it is wrapped in a Task.\u001b[39;00m\n\u001b[0;32m   (...)\u001b[0m\n\u001b[1;32m    620\u001b[0m \u001b[38;5;124;03mReturn the Future's result, or raise its exception.\u001b[39;00m\n\u001b[1;32m    621\u001b[0m \u001b[38;5;124;03m\"\"\"\u001b[39;00m\n\u001b[1;32m    622\u001b[0m \u001b[38;5;28mself\u001b[39m\u001b[38;5;241m.\u001b[39m_check_closed()\n\u001b[0;32m--> 623\u001b[0m \u001b[38;5;28;43mself\u001b[39;49m\u001b[38;5;241;43m.\u001b[39;49m\u001b[43m_check_running\u001b[49m\u001b[43m(\u001b[49m\u001b[43m)\u001b[49m\n\u001b[1;32m    625\u001b[0m new_task \u001b[38;5;241m=\u001b[39m \u001b[38;5;129;01mnot\u001b[39;00m futures\u001b[38;5;241m.\u001b[39misfuture(future)\n\u001b[1;32m    626\u001b[0m future \u001b[38;5;241m=\u001b[39m tasks\u001b[38;5;241m.\u001b[39mensure_future(future, loop\u001b[38;5;241m=\u001b[39m\u001b[38;5;28mself\u001b[39m)\n",
      "File \u001b[0;32m~/anaconda3/envs/exp-tracking-env/lib/python3.9/asyncio/base_events.py:583\u001b[0m, in \u001b[0;36mBaseEventLoop._check_running\u001b[0;34m(self)\u001b[0m\n\u001b[1;32m    581\u001b[0m \u001b[38;5;28;01mdef\u001b[39;00m\u001b[38;5;250m \u001b[39m\u001b[38;5;21m_check_running\u001b[39m(\u001b[38;5;28mself\u001b[39m):\n\u001b[1;32m    582\u001b[0m     \u001b[38;5;28;01mif\u001b[39;00m \u001b[38;5;28mself\u001b[39m\u001b[38;5;241m.\u001b[39mis_running():\n\u001b[0;32m--> 583\u001b[0m         \u001b[38;5;28;01mraise\u001b[39;00m \u001b[38;5;167;01mRuntimeError\u001b[39;00m(\u001b[38;5;124m'\u001b[39m\u001b[38;5;124mThis event loop is already running\u001b[39m\u001b[38;5;124m'\u001b[39m)\n\u001b[1;32m    584\u001b[0m     \u001b[38;5;28;01mif\u001b[39;00m events\u001b[38;5;241m.\u001b[39m_get_running_loop() \u001b[38;5;129;01mis\u001b[39;00m \u001b[38;5;129;01mnot\u001b[39;00m \u001b[38;5;28;01mNone\u001b[39;00m:\n\u001b[1;32m    585\u001b[0m         \u001b[38;5;28;01mraise\u001b[39;00m \u001b[38;5;167;01mRuntimeError\u001b[39;00m(\n\u001b[1;32m    586\u001b[0m             \u001b[38;5;124m'\u001b[39m\u001b[38;5;124mCannot run the event loop while another loop is running\u001b[39m\u001b[38;5;124m'\u001b[39m)\n",
      "\u001b[0;31mRuntimeError\u001b[0m: This event loop is already running"
     ]
    }
   ],
   "source": [
    "from prefect import flow, task\n",
    "import random\n",
    "\n",
    "@task\n",
    "def get_customer_ids() -> list[str]:\n",
    "    # Fetch customer IDs from a database or API\n",
    "    return [f\"customer{n}\" for n in random.choices(range(100), k=10)]\n",
    "\n",
    "@task\n",
    "def process_customer(customer_id: str) -> str:\n",
    "    # Process a single customer\n",
    "    return f\"Processed {customer_id}\"\n",
    "\n",
    "@flow\n",
    "def main() -> list[str]:\n",
    "    customer_ids = get_customer_ids()\n",
    "    # Map the process_customer task across all customer IDs\n",
    "    results = process_customer.map(customer_ids)\n",
    "    return results\n",
    "\n",
    "\n",
    "if __name__ == \"__main__\":\n",
    "    main.serve(name=\"my-first-deployment\")"
   ]
  },
  {
   "cell_type": "code",
   "execution_count": 7,
   "id": "50318b7c-84fb-4404-8b3c-f0a2b8b45ec1",
   "metadata": {},
   "outputs": [
    {
     "name": "stdout",
     "output_type": "stream",
     "text": [
      "23:15:58.449 | \u001b[36mINFO\u001b[0m    | prefect - Starting temporary server on \u001b[94mhttp://127.0.0.1:8859\u001b[0m\n",
      "See \u001b[94mhttps://docs.prefect.io/3.0/manage/self-host#self-host-a-prefect-server\u001b[0m for more information on running a dedicated Prefect server.\n",
      "\u001b[31mDeployment 'main/my-first-deployment' not found!\u001b[0m\n",
      "23:16:01.885 | \u001b[36mINFO\u001b[0m    | prefect - Stopping temporary server on \u001b[94mhttp://127.0.0.1:8859\u001b[0m\n"
     ]
    }
   ],
   "source": [
    "!prefect deployment run 'main/my-first-deployment'"
   ]
  },
  {
   "cell_type": "markdown",
   "id": "ff2debf4-ba84-4d5c-9517-2b6807dc7291",
   "metadata": {},
   "source": [
    "## Question 3. Creating a pipeline"
   ]
  },
  {
   "cell_type": "code",
   "execution_count": 4,
   "id": "3640cba0-ac78-4bb6-bd44-eb1df9458738",
   "metadata": {},
   "outputs": [],
   "source": [
    "import pandas as pd"
   ]
  },
  {
   "cell_type": "code",
   "execution_count": 5,
   "id": "0d2312c6-34d6-4452-a488-3c1fae766b0c",
   "metadata": {},
   "outputs": [],
   "source": [
    "def read_data(month='03'):\n",
    "    filename = f'https://d37ci6vzurychx.cloudfront.net/trip-data/yellow_tripdata_2023-{month}.parquet'\n",
    "    df = pd.read_parquet(filename)\n",
    "    print(f\"We loaded {len(df)} records for month {month} of 2023\")\n",
    "    return filename"
   ]
  },
  {
   "cell_type": "code",
   "execution_count": 8,
   "id": "ca66eefd-dfea-413a-a6f9-e25219f1c74d",
   "metadata": {},
   "outputs": [
    {
     "name": "stdout",
     "output_type": "stream",
     "text": [
      "We loaded 3403766 records for month 03 of 2023\n"
     ]
    }
   ],
   "source": [
    "filename = read_data()"
   ]
  },
  {
   "cell_type": "markdown",
   "id": "a514f0e3-7a3c-49ab-941e-249434b8e244",
   "metadata": {},
   "source": [
    "## Question 4. Data preparation"
   ]
  },
  {
   "cell_type": "code",
   "execution_count": 12,
   "id": "3653b482-266f-4d49-80a6-1b84a14f56c2",
   "metadata": {},
   "outputs": [],
   "source": [
    "def read_dataframe(filename):\n",
    "    df = pd.read_parquet(filename)\n",
    "\n",
    "    df['duration'] = (df['tpep_dropoff_datetime'] - df['tpep_pickup_datetime']).dt.total_seconds()/60\n",
    "    df = df[(df['duration'] >= 1) & (df['duration'] <=60)]\n",
    "    df[['PULocationID', 'DOLocationID']] = df[['PULocationID', 'DOLocationID']].astype(str)\n",
    "    \n",
    "    return df"
   ]
  },
  {
   "cell_type": "code",
   "execution_count": 13,
   "id": "cbd9ff95-0d58-4419-9d79-26364f3ddc1b",
   "metadata": {},
   "outputs": [
    {
     "name": "stdout",
     "output_type": "stream",
     "text": [
      "The size of the dataframe after initial preprocessing is 3316216\n"
     ]
    }
   ],
   "source": [
    "df = read_dataframe(filename)\n",
    "print(f\"The size of the dataframe after initial preprocessing is {len(df)}\")"
   ]
  },
  {
   "cell_type": "markdown",
   "id": "aa181046-519c-4d79-a27b-ab934761a60d",
   "metadata": {},
   "source": [
    "## Question 5. Train a model"
   ]
  },
  {
   "cell_type": "code",
   "execution_count": 15,
   "id": "24cffab8-1578-4546-ae4d-3ce34c431f24",
   "metadata": {},
   "outputs": [],
   "source": [
    "from sklearn.feature_extraction import DictVectorizer\n",
    "from sklearn.linear_model import LinearRegression"
   ]
  },
  {
   "cell_type": "code",
   "execution_count": 22,
   "id": "a1a51177-b6c9-487b-9fd4-81c386212e7f",
   "metadata": {},
   "outputs": [],
   "source": [
    "import mlflow\n",
    "from mlflow.entities import ViewType\n",
    "from mlflow.tracking import MlflowClient\n",
    "\n",
    "import os\n",
    "from pathlib import Path"
   ]
  },
  {
   "cell_type": "code",
   "execution_count": 23,
   "id": "7dae6734-818d-4865-a271-462a83e2bc83",
   "metadata": {},
   "outputs": [],
   "source": [
    "def transform_data(df, v=None):\n",
    "    df_dict_list = df.loc[:,['PULocationID', 'DOLocationID']].to_dict('records')\n",
    "    if (v == None):\n",
    "        v = DictVectorizer()\n",
    "        X = v.fit_transform(df_dict_list)\n",
    "    else:\n",
    "        X = v.transform(df_dict_list)\n",
    "    y = df['duration']\n",
    "\n",
    "    # models_folder = Path('models')\n",
    "    # models_folder.mkdir(exist_ok=True)\n",
    "    \n",
    "    # # Save DictVectorizer and datasets\n",
    "    # dump_pickle(v, os.path.join(models_folder, \"dv.pkl\"))\n",
    "    # dump_pickle((X, y), os.path.join(models_folder, \"train.pkl\"))\n",
    "    return X, y, v"
   ]
  },
  {
   "cell_type": "code",
   "execution_count": 37,
   "id": "fe4e4cca-d6e4-41ec-bda5-15258d61af40",
   "metadata": {},
   "outputs": [],
   "source": [
    "def train_data(X, y, v):\n",
    "\n",
    "    mlflow.set_tracking_uri(\"http://127.0.0.1:5000\")\n",
    "    mlflow.set_experiment(\"nyc-taxi-experiment\")\n",
    "    with mlflow.start_run():\n",
    "        mlflow.set_tag(\"model\", \"LinearRegressor\")\n",
    "\n",
    "        reg = LinearRegression().fit(X, y)\n",
    "        \n",
    "        print(f\"The intercept of the model is {reg.intercept_:.2f}\")\n",
    "        \n",
    "        mlflow.log_param(\"intercept\", reg.intercept_)\n",
    "        mlflow.sklearn.log_model(reg, artifact_path=\"artifacts_local\")\n",
    "    return v, reg"
   ]
  },
  {
   "cell_type": "code",
   "execution_count": 38,
   "id": "a0a7312d-0c48-4ece-912c-a7615983d7a8",
   "metadata": {},
   "outputs": [
    {
     "name": "stderr",
     "output_type": "stream",
     "text": [
      "2025/06/09 18:07:18 WARNING mlflow.sklearn: Failed to log training dataset information to MLflow Tracking. Reason: Unable to allocate 12.8 GiB for an array with shape (3316216, 518) and data type float64\n"
     ]
    },
    {
     "name": "stdout",
     "output_type": "stream",
     "text": [
      "The intercept of the model is 24.77\n"
     ]
    },
    {
     "name": "stderr",
     "output_type": "stream",
     "text": [
      "\u001b[31m2025/06/09 18:07:39 WARNING mlflow.models.model: Model logged without a signature and input example. Please set `input_example` parameter when logging the model to auto infer the model signature.\u001b[0m\n"
     ]
    },
    {
     "name": "stdout",
     "output_type": "stream",
     "text": [
      "🏃 View run dazzling-goose-518 at: http://127.0.0.1:5000/#/experiments/1/runs/5295b0e991cf412ead3270f96daa9b5a\n",
      "🧪 View experiment at: http://127.0.0.1:5000/#/experiments/1\n"
     ]
    }
   ],
   "source": [
    "X_train, y_train, v= transform_data(df)\n",
    "v, reg = train_data(X_train, y_train, v)"
   ]
  },
  {
   "cell_type": "markdown",
   "id": "9c28d789-5e88-48f3-9144-f0d3c71913a1",
   "metadata": {},
   "source": [
    "## Question 6. Register the model"
   ]
  },
  {
   "cell_type": "code",
   "execution_count": 41,
   "id": "fa8a24f4-b597-48a5-b61f-c7317f71023c",
   "metadata": {},
   "outputs": [],
   "source": [
    "def register_model():\n",
    "\n",
    "    client = MlflowClient()\n",
    "\n",
    "    # Retrieve the top_n model runs and log the models\n",
    "    experiment = client.get_experiment_by_name(\"nyc-taxi-experiment\")\n",
    "\n",
    "    last_run = mlflow.last_active_run().info.run_id\n",
    "\n",
    "    # Register the best model\n",
    "    mlflow.register_model(\n",
    "        model_uri=f\"runs:/{last_run}/models\",\n",
    "        name=\"linear-regressor\"\n",
    "    )\n",
    "    return f\"runs:/{last_run}/models\""
   ]
  },
  {
   "cell_type": "code",
   "execution_count": 42,
   "id": "0d3cd1bf-b635-4c65-9c0c-3ed73fe5343b",
   "metadata": {},
   "outputs": [
    {
     "name": "stderr",
     "output_type": "stream",
     "text": [
      "Registered model 'linear-regressor' already exists. Creating a new version of this model...\n",
      "2025/06/09 18:10:54 INFO mlflow.store.model_registry.abstract_store: Waiting up to 300 seconds for model version to finish creation. Model name: linear-regressor, version 3\n",
      "Created version '3' of model 'linear-regressor'.\n"
     ]
    }
   ],
   "source": [
    "model_uri = register_model()"
   ]
  },
  {
   "cell_type": "markdown",
   "id": "d30bf88f-474a-48db-b637-d7a63928b020",
   "metadata": {},
   "source": [
    "From the artifacts in registered model, model_size_bytes: 4501"
   ]
  },
  {
   "cell_type": "markdown",
   "id": "acafc0b6-a27e-4de9-a208-4b5013be11e9",
   "metadata": {},
   "source": [
    "Now I transform this to a python script to run with prefect"
   ]
  },
  {
   "cell_type": "code",
   "execution_count": null,
   "id": "d2ce094c-71c5-42a2-9fd5-a73f214cbffd",
   "metadata": {},
   "outputs": [],
   "source": []
  }
 ],
 "metadata": {
  "kernelspec": {
   "display_name": "Python 3 (ipykernel)",
   "language": "python",
   "name": "python3"
  },
  "language_info": {
   "codemirror_mode": {
    "name": "ipython",
    "version": 3
   },
   "file_extension": ".py",
   "mimetype": "text/x-python",
   "name": "python",
   "nbconvert_exporter": "python",
   "pygments_lexer": "ipython3",
   "version": "3.9.21"
  }
 },
 "nbformat": 4,
 "nbformat_minor": 5
}
