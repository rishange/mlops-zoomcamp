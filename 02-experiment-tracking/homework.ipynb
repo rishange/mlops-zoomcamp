{
 "cells": [
  {
   "cell_type": "code",
   "execution_count": 8,
   "id": "41ac8a44",
   "metadata": {},
   "outputs": [],
   "source": [
    "import pandas as pd\n",
    "import pickle\n",
    "import seaborn as sns\n",
    "import matplotlib.pyplot as plt\n"
   ]
  },
  {
   "cell_type": "code",
   "execution_count": 10,
   "id": "9c40720f-b12e-4ee1-bdc7-38115dd0a881",
   "metadata": {},
   "outputs": [],
   "source": [
    "import sklearn"
   ]
  },
  {
   "cell_type": "markdown",
   "id": "68feb319-836c-4e4f-8a88-4f253ea36b8c",
   "metadata": {},
   "source": [
    "## Q1. Install MLflow"
   ]
  },
  {
   "cell_type": "code",
   "execution_count": 2,
   "id": "e7641fd8",
   "metadata": {},
   "outputs": [],
   "source": [
    "import mlflow\n",
    "\n",
    "mlflow.set_tracking_uri(\"sqlite:///mlflow.db\")"
   ]
  },
  {
   "cell_type": "code",
   "execution_count": 3,
   "id": "3b71c837",
   "metadata": {},
   "outputs": [
    {
     "data": {
      "text/plain": [
       "<Experiment: artifact_location='/workspaces/mlops-zoomcamp/02-experiment-tracking/mlruns/2', creation_time=1748068611572, experiment_id='2', last_update_time=1748068611572, lifecycle_stage='active', name='nyc-taxi-experiment', tags={}>"
      ]
     },
     "execution_count": 3,
     "metadata": {},
     "output_type": "execute_result"
    }
   ],
   "source": [
    "mlflow.set_experiment(\"nyc-taxi-experiment\")"
   ]
  },
  {
   "cell_type": "code",
   "execution_count": 4,
   "id": "0d7d4105-2db6-494e-83a7-d19c0afcc40b",
   "metadata": {},
   "outputs": [
    {
     "name": "stdout",
     "output_type": "stream",
     "text": [
      "mlflow, version 2.22.0\n"
     ]
    }
   ],
   "source": [
    "!mlflow --version"
   ]
  },
  {
   "cell_type": "markdown",
   "id": "761f660a-4bc2-49aa-b938-6b8d9aa6d5c1",
   "metadata": {},
   "source": [
    "## Q2. Download and preprocess the data"
   ]
  },
  {
   "cell_type": "code",
   "execution_count": 9,
   "id": "dbbe44f3-c66a-40bf-af6a-99ec7e594b5f",
   "metadata": {},
   "outputs": [],
   "source": [
    "for month in [\"01\", \"02\", \"03\"]:\n",
    "    df = pd.read_parquet(f\"https://d37ci6vzurychx.cloudfront.net/trip-data/green_tripdata_2023-{month}.parquet\")\n",
    "    df.to_parquet(f\"data///green_tripdata_2023-{month}.parquet\")\n"
   ]
  },
  {
   "cell_type": "markdown",
   "id": "7acc72c4-78e0-4857-a8e5-f2e0218db00f",
   "metadata": {},
   "source": [
    "Executed the \"preprocess_data.py\" in the terminal. 4 files were created in the output folder."
   ]
  },
  {
   "cell_type": "markdown",
   "id": "a307819c-6e39-4d06-aefd-31c40fa506cb",
   "metadata": {},
   "source": [
    "## Q3. Train a model with autolog"
   ]
  },
  {
   "cell_type": "markdown",
   "id": "658976da-575f-41ab-a972-1daa83470c6b",
   "metadata": {},
   "source": [
    "fixed the train.py file to log experiment runs and keep track of min_samples_split. Got min_samples_split=2.\n",
    "\n",
    "Here and below changed mean_squared_error to root_mean_squared_error."
   ]
  },
  {
   "cell_type": "markdown",
   "id": "c08b6f04-d236-4b0c-9b77-3a140b2451d5",
   "metadata": {},
   "source": [
    "## Q4. Launch the tracking server locally"
   ]
  },
  {
   "cell_type": "code",
   "execution_count": 1,
   "id": "0714ac50-6cb4-4a4f-b3e0-6581e34ae82c",
   "metadata": {},
   "outputs": [],
   "source": [
    "import mlflow\n",
    "\n",
    "mlflow.set_tracking_uri(\"http://127.0.0.1:5000\")"
   ]
  },
  {
   "cell_type": "code",
   "execution_count": 2,
   "id": "11a1bee3-8a81-4044-af96-fdb3c9e914c7",
   "metadata": {},
   "outputs": [
    {
     "name": "stdout",
     "output_type": "stream",
     "text": [
      "tracking URI: 'http://127.0.0.1:5000'\n"
     ]
    }
   ],
   "source": [
    "print(f\"tracking URI: '{mlflow.get_tracking_uri()}'\")"
   ]
  },
  {
   "cell_type": "code",
   "execution_count": 4,
   "id": "a4b877ca-3d40-4ef2-bf3e-76bb7a2170b9",
   "metadata": {},
   "outputs": [
    {
     "data": {
      "text/plain": [
       "[<Experiment: artifact_location='/workspaces/mlops-zoomcamp/02-experiment-tracking/artifacts_local/0', creation_time=1748236131926, experiment_id='0', last_update_time=1748236131926, lifecycle_stage='active', name='Default', tags={}>]"
      ]
     },
     "execution_count": 4,
     "metadata": {},
     "output_type": "execute_result"
    }
   ],
   "source": [
    "mlflow.search_experiments()"
   ]
  },
  {
   "cell_type": "markdown",
   "id": "d76f7e57-f745-41ce-a06f-ac8099380e37",
   "metadata": {},
   "source": [
    "needed to add default-artifact-root (artifacts_local)"
   ]
  },
  {
   "cell_type": "markdown",
   "id": "e2cf7b5c-de28-4aec-9455-e2bcda226d2d",
   "metadata": {},
   "source": [
    "## Q5. Tune model hyperparameters"
   ]
  },
  {
   "cell_type": "markdown",
   "id": "afa70b3b-3155-4dfa-af73-89455b470180",
   "metadata": {},
   "source": [
    "fixed hpo.py file to log experiment runs and keep track of RMSE and the list of hyperparameters. The lowest RMSE is 5.335"
   ]
  },
  {
   "cell_type": "markdown",
   "id": "0cc4e2b1-fe2e-4eee-95fc-02001cfc6b73",
   "metadata": {},
   "source": [
    "## Q6. Promote the best model to the model registry"
   ]
  },
  {
   "cell_type": "markdown",
   "id": "94072a14-0285-4009-9948-a4d3962ae3f1",
   "metadata": {},
   "source": [
    "fixed register_model.py. The best model RMSE is 5.567"
   ]
  },
  {
   "cell_type": "code",
   "execution_count": null,
   "id": "5bb8b09b-7a44-48a6-8fc8-328005767530",
   "metadata": {},
   "outputs": [],
   "source": []
  }
 ],
 "metadata": {
  "kernelspec": {
   "display_name": "Python 3 (ipykernel)",
   "language": "python",
   "name": "python3"
  },
  "language_info": {
   "codemirror_mode": {
    "name": "ipython",
    "version": 3
   },
   "file_extension": ".py",
   "mimetype": "text/x-python",
   "name": "python",
   "nbconvert_exporter": "python",
   "pygments_lexer": "ipython3",
   "version": "3.9.21"
  }
 },
 "nbformat": 4,
 "nbformat_minor": 5
}
